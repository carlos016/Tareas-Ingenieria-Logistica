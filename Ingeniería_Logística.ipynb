{
  "nbformat": 4,
  "nbformat_minor": 0,
  "metadata": {
    "colab": {
      "name": "Ingeniería Logística.ipynb",
      "version": "0.3.2",
      "provenance": [],
      "collapsed_sections": []
    },
    "kernelspec": {
      "name": "python2",
      "display_name": "Python 2"
    }
  },
  "cells": [
    {
      "metadata": {
        "id": "Q4A2sTdrgkXM",
        "colab_type": "text"
      },
      "cell_type": "markdown",
      "source": [
        "<h1>**Modelos Ingeniería Logística**</h1>"
      ]
    },
    {
      "metadata": {
        "id": "LsemLLW2gkmt",
        "colab_type": "text"
      },
      "cell_type": "markdown",
      "source": [
        "**1.- 3 Modelos del TSP utilizando las variables u, j o f para evitar los subciclos**"
      ]
    },
    {
      "metadata": {
        "id": "401BbyHbiWLA",
        "colab_type": "text"
      },
      "cell_type": "markdown",
      "source": [
        "1.1.- Primer modelo (Usando la variable *u* para conocer la posición que ocupa cada nodo en la ruta final)"
      ]
    },
    {
      "metadata": {
        "id": "VcaG7yeqiPW4",
        "colab_type": "code",
        "colab": {}
      },
      "cell_type": "code",
      "source": [
        "!pip install pulp\n",
        "from pulp import *\n",
        "!pip install ortools\n",
        "from ortools.linear_solver import pywraplp\n",
        "import random\n",
        "\n",
        "n = 50\n",
        "todos = range(n)\n",
        "otros = range(1,n)\n",
        "random.seed(12345)\n",
        "dist= { (i,j) : random.randint(1,100) for i in todos for j in todos if i!=j }\n",
        "EPS = 0.001\n",
        "\n",
        "def TSP1():\n",
        "    solver = pywraplp.Solver('ATSP', pywraplp.Solver.CBC_MIXED_INTEGER_PROGRAMMING)\n",
        "\n",
        "    x = {}\n",
        "    for i in todos:\n",
        "        for j in todos:\n",
        "            if i!=j:\n",
        "                x[i,j] = solver.BoolVar('x[%i,%i]' % (i,j))\n",
        "    u = {}\n",
        "    for i in otros:\n",
        "        u[i] = solver.IntVar(0.0, solver.infinity(), 'u[%i]' % i)  \n",
        "\n",
        "    solver.Minimize(solver.Sum( dist[i,j]*x[i,j] for i in todos for j in todos if i!=j ))\n",
        "    \n",
        "    [ solver.Add(  solver.Sum(x[i,j] for j in todos if i!=j) == 1  )  for i in todos ]\n",
        "    [ solver.Add(  solver.Sum(x[j,i] for j in todos if i!=j) == 1  )  for i in todos ]\n",
        "    [ solver.Add(  u[j] >= u[i] + x[i,j] - (n-2)*(1-x[i,j]) + (n-3)*x[j,i]   ) for i in otros for j in otros if j!=i ]\n",
        "        \n",
        "    solver.Solve()\n",
        "\n",
        "    print('Distancia total de la ruta = ', solver.Objective().Value(),'kilometros')\n",
        "    print('Ruta de mínima distancia:')\n",
        "    for i in todos:\n",
        "        for j in todos: \n",
        "            if i!=j and x[i,j].solution_value() > EPS :\n",
        "                print('De %d a %d con distancia=%d Km'  %(i,j,dist[i,j]))\n",
        "\n",
        "TSP1()\n"
      ],
      "execution_count": 0,
      "outputs": []
    },
    {
      "metadata": {
        "id": "uaaYrU8Hgky4",
        "colab_type": "text"
      },
      "cell_type": "markdown",
      "source": [
        "1.2.- Segundo modelo (Usando la variable *v* para llevar el control de que es nodo es visitado antes que otro)"
      ]
    },
    {
      "metadata": {
        "id": "2RhizDiGghtx",
        "colab_type": "code",
        "outputId": "229fe7c0-1cf6-4024-afca-958edce471e1",
        "colab": {
          "base_uri": "https://localhost:8080/",
          "height": 118
        }
      },
      "cell_type": "code",
      "source": [
        "!pip install pulp\n",
        "from pulp import *\n",
        "!pip install ortools\n",
        "from ortools.linear_solver import pywraplp\n",
        "import random\n",
        "\n",
        "n = 50\n",
        "todos = range(n)\n",
        "otros = range(1,n)\n",
        "random.seed(12345)\n",
        "dist= { (i,j) : random.randint(1,100) for i in todos for j in todos if i!=j }\n",
        "EPS = 0.001\n",
        "\n",
        "def TSP2():\n",
        "    solver = pywraplp.Solver('ATSP', pywraplp.Solver.CBC_MIXED_INTEGER_PROGRAMMING)\n",
        "\n",
        "    x = {}\n",
        "    for i in todos:\n",
        "        for j in todos:\n",
        "            if i!=j:\n",
        "                x[i,j] = solver.BoolVar('x[%i,%i]' % (i,j))              \n",
        "    v = {}\n",
        "    for i in todos:\n",
        "        for j in todos:\n",
        "            if i!=j:\n",
        "                v[i,j] = solver.BoolVar('v[%i,%i]' % (i,j))\n",
        "\n",
        "    solver.Minimize(solver.Sum( dist[i,j]*x[i,j] for i in todos for j in todos if i!=j ))\n",
        "    \n",
        "    [ solver.Add(  solver.Sum(x[i,j] for j in todos if i!=j) == 1  )  for i in todos ]\n",
        "    [ solver.Add(  solver.Sum(x[j,i] for j in todos if i!=j) == 1  )  for i in todos ]\n",
        "    \n",
        "    [ solver.Add(  v[i,j] + v[j,i] == 1  )  for i in otros for j in otros if i!=j ]\n",
        "    [ solver.Add(  x[i,k] + v[i,j] + v[j,k] <= v[i,k] + 1  )  for i in otros for j in otros for k in todos if i!=j and j!=k and k!=i ]\n",
        "    [ solver.Add(  v[i,j] == 0 or v[i,j] == 1)  for i in todos for j in todos if i!=j ]\n",
        "    [ solver.Add(  x[i,j] <= v[i,j]  )  for i in otros for j in todos if i!=j ]\n",
        "      \n",
        "    solver.Solve()\n",
        "\n",
        "    print('Distancia total de la ruta = ', solver.Objective().Value(),'kilometros')\n",
        "    print('Ruta de mínima distancia:')\n",
        "    for i in todos:\n",
        "        for j in todos: \n",
        "            if i!=j and x[i,j].solution_value() > EPS :\n",
        "                print('De %d a %d con distancia=%d Km'  %(i,j,dist[i,j]))\n",
        "\n",
        "TSP2()"
      ],
      "execution_count": 0,
      "outputs": [
        {
          "output_type": "stream",
          "text": [
            "Requirement already satisfied: pulp in /usr/local/lib/python2.7/dist-packages (1.6.9)\n",
            "Requirement already satisfied: pyparsing>=2.0.1 in /usr/local/lib/python2.7/dist-packages (from pulp) (2.3.0)\n",
            "Requirement already satisfied: ortools in /usr/local/lib/python2.7/dist-packages (6.10.6025)\n",
            "Requirement already satisfied: protobuf>=3.6.1 in /usr/local/lib/python2.7/dist-packages (from ortools) (3.6.1)\n",
            "Requirement already satisfied: six>=1.10 in /usr/local/lib/python2.7/dist-packages (from ortools) (1.11.0)\n",
            "Requirement already satisfied: setuptools in /usr/local/lib/python2.7/dist-packages (from protobuf>=3.6.1->ortools) (40.6.3)\n"
          ],
          "name": "stdout"
        }
      ]
    },
    {
      "metadata": {
        "id": "Bikk--x3vafX",
        "colab_type": "text"
      },
      "cell_type": "markdown",
      "source": [
        "1.3.- Tercer modelo (Usando la variable *f* para llevar el control de la cantidad de euros que llevo por un arco)"
      ]
    },
    {
      "metadata": {
        "id": "yDO5xTfQvsjp",
        "colab_type": "code",
        "colab": {}
      },
      "cell_type": "code",
      "source": [
        "!pip install pulp\n",
        "from pulp import *\n",
        "!pip install ortools\n",
        "from ortools.linear_solver import pywraplp\n",
        "import random\n",
        "\n",
        "n = 50\n",
        "todos = range(n)\n",
        "otros = range(1,n)\n",
        "random.seed(12345)\n",
        "dist= { (i,j) : random.randint(1,100) for i in todos for j in todos if i!=j }\n",
        "EPS = 0.001\n",
        "\n",
        "def TSP3():\n",
        "    solver = pywraplp.Solver('ATSP', pywraplp.Solver.CBC_MIXED_INTEGER_PROGRAMMING)\n",
        "\n",
        "    x = {}\n",
        "    for i in todos:\n",
        "        for j in todos:\n",
        "            if i!=j:\n",
        "                x[i,j] = solver.BoolVar('x[%i,%i]' % (i,j))\n",
        "    f = {}\n",
        "    for i in todos:\n",
        "        for j in todos:\n",
        "            if i!=j:\n",
        "                f[i,j] = solver.IntVar(0.0, solver.infinity(), 'f[%i,%i]' % (i,j))  \n",
        "\n",
        "    solver.Minimize(solver.Sum( dist[i,j]*x[i,j] for i in todos for j in todos if i!=j ))\n",
        "    \n",
        "    [ solver.Add(  solver.Sum(x[i,j] for j in todos if i!=j) == 1  )  for i in todos ]\n",
        "    [ solver.Add(  solver.Sum(x[j,i] for j in todos if i!=j) == 1  )  for i in todos ]\n",
        "    \n",
        "    [ solver.Add(  solver.Sum(f[i,j] for i in todos if i!=j) - solver.Sum(f[j,k] for k in todos if j!=k) == 1  )  for j in otros]\n",
        "    [ solver.Add(  0 <= f[i,j]  )  for i in todos for j in todos if i!=j]\n",
        "    [ solver.Add(  f[i,j] <= (n - 1) * x[i,j]) for i in todos for j in todos if i!=j]\n",
        "        \n",
        "    solver.Solve()\n",
        "\n",
        "    print('Distancia total de la ruta = ', solver.Objective().Value(),'kilometros')\n",
        "    print('Ruta de mínima distancia:')\n",
        "    for i in todos:\n",
        "        for j in todos: \n",
        "            if i!=j and x[i,j].solution_value() > EPS :\n",
        "                print('De %d a %d con distancia=%d Km'  %(i,j,dist[i,j]))\n",
        "\n",
        "TSP3()"
      ],
      "execution_count": 0,
      "outputs": []
    },
    {
      "metadata": {
        "id": "kLaLCAg3zNDQ",
        "colab_type": "text"
      },
      "cell_type": "markdown",
      "source": [
        "**2.- Modelo del TSP con Relaciones de Precedencia**"
      ]
    },
    {
      "metadata": {
        "id": "u0qAw65yzbzn",
        "colab_type": "code",
        "colab": {}
      },
      "cell_type": "code",
      "source": [
        "!pip install pulp\n",
        "from pulp import *\n",
        "!pip install ortools\n",
        "from ortools.linear_solver import pywraplp\n",
        "import random\n",
        "\n",
        "n = 50\n",
        "todos = range(n)\n",
        "otros = range(1,n)\n",
        "random.seed(12345)\n",
        "dist= { (i,j) : random.randint(1,100) for i in todos for j in todos if i!=j }\n",
        "EPS = 0.001\n",
        "\n",
        "def TSP4():\n",
        "    solver = pywraplp.Solver('ATSP', pywraplp.Solver.CBC_MIXED_INTEGER_PROGRAMMING)\n",
        "\n",
        "    x = {}\n",
        "    for i in todos:\n",
        "        for j in todos:\n",
        "            if i!=j:\n",
        "                x[i,j] = solver.BoolVar('x[%i,%i]' % (i,j))\n",
        "    v = {}\n",
        "    for i in todos:\n",
        "        for j in todos:\n",
        "            if i!=j:\n",
        "                v[i,j] = solver.BoolVar('v[%i,%i]' % (i,j))  \n",
        "\n",
        "    solver.Minimize(solver.Sum( dist[i,j]*x[i,j] for i in todos for j in todos if i!=j ))\n",
        "    \n",
        "    [ solver.Add(  solver.Sum(x[i,j] for j in todos if i!=j) == 1  )  for i in todos ]\n",
        "    [ solver.Add(  solver.Sum(x[j,i] for j in todos if i!=j) == 1  )  for i in todos ]\n",
        "    \n",
        "    [ solver.Add(  v[i,j] + v[j,i] == 1  )  for i in todos for j in todos if i!=j ]\n",
        "    [ solver.Add(  v[i,j] + v[j,k] <= v[i,k] + 1  )  for i in todos for j in todos for k in todos if i!=j and j!=k and k!=i ]\n",
        "    [ solver.Add(  x[i,j] <= v[i,j]  )  for i in todos for j in todos if i!=j ]\n",
        "    [ solver.Add(  solver.Sum(v[i,j] for j in todos if i!=j) == 1  for i in todos if i!=j)]\n",
        "    \n",
        "    solver.Solve()\n",
        "\n",
        "    print('Distancia total de la ruta = ', solver.Objective().Value(),'kilometros')\n",
        "    print('Ruta de mínima distancia:')\n",
        "    for i in todos:\n",
        "        for j in todos: \n",
        "            if i!=j and x[i,j].solution_value() > EPS :\n",
        "                print('De %d a %d con distancia=%d Km'  %(i,j,dist[i,j]))\n",
        "\n",
        "TSP4()"
      ],
      "execution_count": 0,
      "outputs": []
    },
    {
      "metadata": {
        "id": "P7SVhO9LCsEN",
        "colab_type": "text"
      },
      "cell_type": "markdown",
      "source": [
        "**3.- Modelo del TSP con recogidas y entregas de un mercancia**"
      ]
    },
    {
      "metadata": {
        "id": "I4gqcJbFC6Il",
        "colab_type": "code",
        "colab": {}
      },
      "cell_type": "code",
      "source": [
        "!pip install pulp\n",
        "from pulp import *\n",
        "!pip install ortools\n",
        "from ortools.linear_solver import pywraplp\n",
        "import random\n",
        "\n",
        "n = 50\n",
        "todos = range(n)\n",
        "otros = range(1,n)\n",
        "random.seed(12345)\n",
        "dist= { (i,j) : random.randint(1,100) for i in todos for j in todos if i!=j }\n",
        "demanda= { (i) : random.randint(1,10) for i in otros }\n",
        "Q = 500 #Cantidad máxima de mercancia en el camión transportista\n",
        "EPS = 0.001\n",
        "\n",
        "def TSP5():\n",
        "    solver = pywraplp.Solver('ATSP', pywraplp.Solver.CBC_MIXED_INTEGER_PROGRAMMING)\n",
        "\n",
        "    x = {}\n",
        "    for i in todos:\n",
        "        for j in todos:\n",
        "            if i!=j:\n",
        "                x[i,j] = solver.BoolVar('x[%i,%i]' % (i,j))\n",
        "    u = {}\n",
        "    for i in otros:\n",
        "        u[i] = solver.IntVar(0.0, solver.infinity(), 'u[%i]' % i) \n",
        "    f = {}\n",
        "    for i in todos:\n",
        "        for j in todos:\n",
        "            if i!=j:\n",
        "                f[i,j] = solver.IntVar(0.0, solver.infinity(), 'f[%i,%i]' % (i,j))\n",
        "\n",
        "    solver.Minimize(solver.Sum( dist[i,j]*x[i,j] for i in todos for j in todos if i!=j ))\n",
        "    \n",
        "    [ solver.Add(  solver.Sum(x[i,j] for j in todos if i!=j) == 1  )  for i in todos ]\n",
        "    [ solver.Add(  solver.Sum(x[j,i] for j in todos if i!=j) == 1  )  for i in todos ]\n",
        "    \n",
        "    [ solver.Add(  u[j] >= u[i] + x[i,j] - (n-2)*(1-x[i,j]) + (n-3)*x[j,i]   ) for i in otros for j in otros if j!=i ]\n",
        "    \n",
        "    [ solver.Add(  solver.Sum(f[i,j] for j in todos if i!=j) - solver.Sum(f[j,i] for j in todos if i!=j) == demanda[i]  )  for i in otros ]\n",
        "    [ solver.Add(  max(0, demanda[i], -demanda[j]) * x[i,j] <= f[i,j]  )  for i in otros for j in otros if i!=j ]\n",
        "    [ solver.Add(  f[i,j] <= (Q - max(0, -demanda[i], demanda[j])) * x[i,j]  )  for i in otros for j in otros if i!=j ]\n",
        "    \n",
        "    solver.Solve()\n",
        "\n",
        "    print('Distancia total de la ruta = ', solver.Objective().Value(),'kilometros')\n",
        "    print('Ruta de mínima distancia:')\n",
        "    for i in todos:\n",
        "        for j in todos: \n",
        "            if i!=j and x[i,j].solution_value() > EPS :\n",
        "                print('De %d a %d con distancia=%d Km'  %(i,j,dist[i,j]))\n",
        "\n",
        "TSP5()"
      ],
      "execution_count": 0,
      "outputs": []
    },
    {
      "metadata": {
        "id": "opdJ6rUsKzW1",
        "colab_type": "text"
      },
      "cell_type": "markdown",
      "source": [
        "**4.- Modelo del TSP con Ventanas Temporales**"
      ]
    },
    {
      "metadata": {
        "id": "zsIuSpCTK7Ut",
        "colab_type": "code",
        "colab": {}
      },
      "cell_type": "code",
      "source": [
        "!pip install pulp\n",
        "from pulp import *\n",
        "!pip install ortools\n",
        "from ortools.linear_solver import pywraplp\n",
        "import random\n",
        "\n",
        "n = 50\n",
        "todos = range(n)\n",
        "otros = range(1,n)\n",
        "random.seed(12345)\n",
        "dist= { (i,j) : random.randint(1,100) for i in todos for j in todos if i!=j }\n",
        "e = { i : random.randint(1,100) * i for i in otros }     #early time\n",
        "l = { i : e[i]+random.randint(1,100) for i in otros }    #late time\n",
        "t = { (i,j) : random.randint(1,100) for i in todos for j in todos if i!=j }  #tiempo de ruta en cada arco\n",
        "s = { i : random.randint(1,20) * i for i in otros }     #service time\n",
        "EPS = 0.001\n",
        "\n",
        "def TSP6():\n",
        "    solver = pywraplp.Solver('ATSP', pywraplp.Solver.CBC_MIXED_INTEGER_PROGRAMMING)\n",
        "\n",
        "    x = {}\n",
        "    for i in todos:\n",
        "        for j in todos:\n",
        "            if i!=j:\n",
        "                x[i,j] = solver.BoolVar('x[%i,%i]' % (i,j))\n",
        "    u = {}\n",
        "    for i in otros:\n",
        "        u[i] = solver.IntVar(0.0, solver.infinity(), 'u[%i]' % i) \n",
        "    f = {}\n",
        "    for i in todos:\n",
        "        for j in todos:\n",
        "            if i!=j:\n",
        "                f[i,j] = solver.IntVar(0.0, solver.infinity(), 'f[%i,%i]' % (i,j))\n",
        "            \n",
        "    solver.Minimize(solver.Sum( dist[i,j]*x[i,j] for i in todos for j in todos if i!=j ))\n",
        "    \n",
        "    [ solver.Add(  solver.Sum(x[i,j] for j in todos if i!=j) == 1  )  for i in todos ]\n",
        "    [ solver.Add(  solver.Sum(x[j,i] for j in todos if i!=j) == 1  )  for i in todos ]\n",
        "    \n",
        "    [ solver.Add(  u[j] >= u[i] + x[i,j] - (n-2)*(1-x[i,j]) + (n-3)*x[j,i]  ) for i in otros for j in otros if j!=i ]\n",
        "    \n",
        "    '''[ solver.Add(  0 <= f[i,j]  )  for i in otros for i in otros if i!=j ]\n",
        "    [ solver.Add(  f[i,j] <= T[i,j] * x[i,j]  )  for i in otros for i in otros if i!=j ]\n",
        "    [ solver.Add(  solver.Sum(f[i,j] for j in todos) >= solver.Sum(f[k,i] + (s[k] + t[i,k]) * x[i,j] for k in todos)  )  for i in otros if i!=j and i!=k ]\n",
        "    [ solver.Add(  e[i] <= solver.Sum(f[i,j] for j in todos)  )  for i in otros if i!=j ]\n",
        "    [ solver.Add(  solver.Sum(f[i,j] for j in todos) <= l[i]  )  for i in otros if i!=j ]'''\n",
        "    \n",
        "    [ solver.Add(  e[i] <= u[i]  )  for i in otros]\n",
        "    [ solver.Add(  u[i] <= l[i]  )  for i in otros]\n",
        "    \n",
        "    [ solver.Add(  u[j] <= u[i] + (s[i] + t[i,j]) * x[i,j] - n * (1 - x[i,j])  )  for i in otros for j in otros if i!=j ]\n",
        "    \n",
        "    \n",
        "    solver.Solve()\n",
        "\n",
        "    print('Distancia total de la ruta = ', solver.Objective().Value(),'kilometros')\n",
        "    print('Ruta de mínima distancia:')\n",
        "    for i in todos:\n",
        "        for j in todos: \n",
        "            if i!=j and x[i,j].solution_value() > EPS :\n",
        "                print('De %d a %d con distancia=%d Km'  %(i,j,dist[i,j]))\n",
        "\n",
        "TSP6()"
      ],
      "execution_count": 0,
      "outputs": []
    }
  ]
}