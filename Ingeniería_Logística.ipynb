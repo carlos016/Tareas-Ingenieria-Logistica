{
  "nbformat": 4,
  "nbformat_minor": 0,
  "metadata": {
    "colab": {
      "name": "Ingeniería Logística.ipynb",
      "version": "0.3.2",
      "provenance": [],
      "collapsed_sections": []
    },
    "kernelspec": {
      "name": "python2",
      "display_name": "Python 2"
    }
  },
  "cells": [
    {
      "metadata": {
        "id": "Q4A2sTdrgkXM",
        "colab_type": "text"
      },
      "cell_type": "markdown",
      "source": [
        "**Modelos Ingeniería Logística**"
      ]
    },
    {
      "metadata": {
        "id": "LsemLLW2gkmt",
        "colab_type": "text"
      },
      "cell_type": "markdown",
      "source": [
        "1.- *3 Modelos del TSP utilizando las variables u, j o f*"
      ]
    },
    {
      "metadata": {
        "id": "401BbyHbiWLA",
        "colab_type": "text"
      },
      "cell_type": "markdown",
      "source": [
        "1.1.- Primer modelo (Usando la variable *u* para conocer la posición que ocupa cada nodo en la ruta final)"
      ]
    },
    {
      "metadata": {
        "id": "VcaG7yeqiPW4",
        "colab_type": "code",
        "colab": {}
      },
      "cell_type": "code",
      "source": [
        "!pip install pulp\n",
        "from pulp import *\n",
        "!pip install ortools\n",
        "from ortools.linear_solver import pywraplp\n",
        "import random\n",
        "\n",
        "n = 50\n",
        "todos = range(n)\n",
        "otros = range(1,n)\n",
        "random.seed(12345)\n",
        "dist= { (i,j) : random.randint(1,100) for i in todos for j in todos if i!=j }\n",
        "EPS = 0.001\n",
        "\n",
        "def TSP1():\n",
        "    solver = pywraplp.Solver('ATSP', pywraplp.Solver.CBC_MIXED_INTEGER_PROGRAMMING)\n",
        "\n",
        "    x = {}\n",
        "    for i in todos:\n",
        "        for j in todos:\n",
        "            if i!=j:\n",
        "                x[i,j] = solver.BoolVar('x[%i,%i]' % (i,j))\n",
        "    u = {}\n",
        "    for i in otros:\n",
        "        u[i] = solver.IntVar(0.0, solver.infinity(), 'u[%i]' % i)  \n",
        "\n",
        "    solver.Minimize(solver.Sum( dist[i,j]*x[i,j] for i in todos for j in todos if i!=j ))\n",
        "    \n",
        "    [ solver.Add(  solver.Sum(x[i,j] for j in todos if i!=j) == 1  )  for i in todos ]\n",
        "    [ solver.Add(  solver.Sum(x[j,i] for j in todos if i!=j) == 1  )  for i in todos ]\n",
        "    [ solver.Add(  u[j] >= u[i] + x[i,j] - (n-2)*(1-x[i,j]) + (n-3)*x[j,i]   ) for i in otros for j in otros if j!=i ]\n",
        "        \n",
        "    solver.Solve()\n",
        "\n",
        "    print('Distancia total de la ruta = ', solver.Objective().Value(),'kilometros')\n",
        "    print('Ruta de mínima distancia:')\n",
        "    for i in todos:\n",
        "        for j in todos: \n",
        "            if i!=j and x[i,j].solution_value() > EPS :\n",
        "                print('De %d a %d con distancia=%d Km'  %(i,j,dist[i,j]))\n",
        "\n",
        "TSP1()\n"
      ],
      "execution_count": 0,
      "outputs": []
    },
    {
      "metadata": {
        "id": "uaaYrU8Hgky4",
        "colab_type": "text"
      },
      "cell_type": "markdown",
      "source": [
        "1.2.- Segundo modelo (Usando la variable *v* para llevar el control de que es nodo es visitado antes que otro)"
      ]
    },
    {
      "metadata": {
        "id": "2RhizDiGghtx",
        "colab_type": "code",
        "colab": {}
      },
      "cell_type": "code",
      "source": [
        ""
      ],
      "execution_count": 0,
      "outputs": []
    }
  ]
}